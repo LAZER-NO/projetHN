{
 "cells": [
  {
   "cell_type": "markdown",
   "metadata": {},
   "source": [
    "## Préparation des données Twitch"
   ]
  },
  {
   "cell_type": "code",
   "execution_count": 6,
   "metadata": {},
   "outputs": [],
   "source": [
    "import numpy as np\n",
    "import pandas as pd\n",
    "import pandas._testing as tm"
   ]
  },
  {
   "cell_type": "markdown",
   "metadata": {},
   "source": [
    "Importation des données dans un dataframe avec Pandas."
   ]
  },
  {
   "cell_type": "code",
   "execution_count": 7,
   "metadata": {},
   "outputs": [],
   "source": [
    "dfTwitch = pd.read_csv(\"data/Twitch_game_data.csv\", encoding=\"latin1\")\n",
    "dfTwitch = dfTwitch.reset_index()"
   ]
  },
  {
   "cell_type": "markdown",
   "metadata": {},
   "source": [
    "Remplacement des erreurs d'encodages au sein des noms.\n"
   ]
  },
  {
   "cell_type": "code",
   "execution_count": 8,
   "metadata": {},
   "outputs": [],
   "source": [
    "dfTwitch[\"Game\"].replace(r'<U\\+00E9>', 'é', regex=True, inplace = True)\n",
    "dfTwitch[\"Game\"].replace(r'<U\\+00DB>', 'Û', regex=True, inplace = True)\n",
    "dfTwitch[\"Game\"].replace(r'<U\\+014C>', 'Ō', regex=True, inplace = True)\n",
    "dfTwitch[\"Game\"].replace(r'<U\\+2212>', '-', regex=True, inplace = True)\n",
    "dfTwitch[\"Game\"].replace(r'<U\\+72FC>', '狼', regex=True, inplace = True)\n",
    "dfTwitch[\"Game\"].replace(r'<U\\+4EBA>', '人', regex=True, inplace = True)\n",
    "dfTwitch[\"Game\"].replace(r'<U\\+6BBA>', '殺', regex=True, inplace = True)\n",
    "dfTwitch[\"Game\"].replace(r'<U\\+016B>', 'ū', regex=True, inplace = True)\n"
   ]
  },
  {
   "cell_type": "markdown",
   "metadata": {},
   "source": [
    "Tri par titre de jeu, année puis mois et exportation en CSV pour aider au contôle.\n"
   ]
  },
  {
   "cell_type": "code",
   "execution_count": 9,
   "metadata": {},
   "outputs": [],
   "source": [
    "dfTwitchSorted = dfTwitch.sort_values(by=['Game', 'Year', 'Month'])\n",
    "dfTwitchSorted.to_csv(\"data/dfTwitchSorted.csv\")"
   ]
  },
  {
   "cell_type": "markdown",
   "metadata": {},
   "source": [
    "Pivot de la table à l'aide de la fonction inclue dans la librairie Pandas + Exportation avec le nom de la colonne choisie dans le fichier.\n"
   ]
  },
  {
   "cell_type": "code",
   "execution_count": 10,
   "metadata": {},
   "outputs": [],
   "source": [
    "def pivot(column):\n",
    "    df = dfTwitch.pivot_table(index='Game', columns=('Year', 'Month') , values=(column), aggfunc='sum')\n",
    "    df.to_csv(f\"data/Twitch_pivoted_{column}.csv\")"
   ]
  },
  {
   "cell_type": "markdown",
   "metadata": {},
   "source": [
    "Appel pour chaque colonne. Formera les tables de la base de données."
   ]
  },
  {
   "cell_type": "code",
   "execution_count": 11,
   "metadata": {},
   "outputs": [],
   "source": [
    "pivot(\"Hours_watched\")\n",
    "pivot(\"Hours_Streamed\")\n",
    "pivot(\"Peak_viewers\")\n",
    "pivot(\"Peak_channels\")\n",
    "pivot(\"Streamers\")\n",
    "pivot(\"Avg_viewers\")\n",
    "pivot(\"Avg_channels\")\n",
    "pivot(\"Avg_viewer_ratio\")"
   ]
  }
 ],
 "metadata": {
  "interpreter": {
   "hash": "b0fa6594d8f4cbf19f97940f81e996739fb7646882a419484c72d19e05852a7e"
  },
  "kernelspec": {
   "display_name": "Python 3.9.10 64-bit",
   "language": "python",
   "name": "python3"
  },
  "language_info": {
   "codemirror_mode": {
    "name": "ipython",
    "version": 3
   },
   "file_extension": ".py",
   "mimetype": "text/x-python",
   "name": "python",
   "nbconvert_exporter": "python",
   "pygments_lexer": "ipython3",
   "version": "3.9.10"
  },
  "orig_nbformat": 4
 },
 "nbformat": 4,
 "nbformat_minor": 2
}
