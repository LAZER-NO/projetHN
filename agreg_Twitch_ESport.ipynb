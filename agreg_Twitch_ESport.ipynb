{
 "cells": [
  {
   "cell_type": "markdown",
   "metadata": {},
   "source": [
    "## Recoupement des jeux présents à la fois dans Twitch et ESport"
   ]
  },
  {
   "cell_type": "code",
   "execution_count": 1,
   "metadata": {},
   "outputs": [],
   "source": [
    "import numpy as np\n",
    "import pandas as pd\n",
    "import pandas._testing as tm\n",
    "import re\n",
    "import jellyfish"
   ]
  },
  {
   "cell_type": "markdown",
   "metadata": {},
   "source": [
    "Importation des fichiers"
   ]
  },
  {
   "cell_type": "code",
   "execution_count": 2,
   "metadata": {},
   "outputs": [],
   "source": [
    "dfTwitchPivoted = pd.read_csv(\"data/Twitch_pivoted_Peak_viewers.csv\", encoding=\"latin1\")\n",
    "dfESport = pd.read_csv(\"data/ESport_Earnings.csv\", encoding=\"latin1\")\n",
    "\n",
    "# dfTwitchPivoted.join(dfESport.set_index('GameName'), on='GameName')\n",
    "# dfTwitchPivoted.to_csv(\"essaiJoint.csv\")"
   ]
  },
  {
   "cell_type": "markdown",
   "metadata": {},
   "source": [
    "Compaison à l'aide de deux boucles. Pour la comparaison :\n",
    "1. tous les noms sont passés en minuscules pour éviter les problème de casse\n",
    "2. tous les espaces sont supprimés\n",
    "3. tous les tirets sont supprimés\n",
    "\n",
    "Ceci pour éviter que deux jeux ayant un formatage différent soient considérés comme différents (par exemple \"Doom 3\" dans la liste qui suit à pu être sélectionné)."
   ]
  },
  {
   "cell_type": "code",
   "execution_count": 3,
   "metadata": {},
   "outputs": [],
   "source": [
    "# comparison_column = np.where(dfTwitchPivoted[\"Year\"] == dfESport[\"GameName\"], True, False)\n",
    "\n",
    "countTwitch = 0\n",
    "countESport = 0\n",
    "countOk = []\n",
    "\n",
    "for gameTwitch in dfTwitchPivoted[\"Year\"]:\n",
    "    countTwitch += 1\n",
    "    for gameESport in dfESport[\"GameName\"]:\n",
    "        countESport += 1\n",
    "        if gameESport.lower().replace(\" \",\"\").replace(\"-\",\"\") == gameTwitch.lower().replace(\" \",\"\").replace(\"-\",\"\"):\n",
    "            countOk.append([gameESport, gameTwitch])\n"
   ]
  },
  {
   "cell_type": "markdown",
   "metadata": {},
   "source": [
    "Relicat d'une méthode de selection avec un score de similitude. Ne fonctionne pas car ne permet de distinguer des jeux très proches, ex : Age of Empires II et Age of Empires III, etc. "
   ]
  },
  {
   "cell_type": "code",
   "execution_count": null,
   "metadata": {},
   "outputs": [],
   "source": [
    "        # if jellyfish.jaro_distance(gameESport.lower(), gameTwitch.lower()) < 1.0 and jellyfish.jaro_distance(gameESport.lower(), gameTwitch.lower()) > 0.99:\n",
    "        #     countOk.append([gameESport, gameTwitch])"
   ]
  },
  {
   "cell_type": "markdown",
   "metadata": {},
   "source": [
    "Affiche dans l'ordre : nombre de jeux dans Twitch ; nombre de jeux dans ESport ; nombre de correspondance trouvées ; liste des correspondances trouvées en couple pour contrôle"
   ]
  },
  {
   "cell_type": "code",
   "execution_count": 4,
   "metadata": {},
   "outputs": [
    {
     "name": "stdout",
     "output_type": "stream",
     "text": [
      "1801\n",
      "907704\n",
      "162\n",
      "[['ARMS', 'ARMS'], ['Age of Empires', 'Age of Empires'], ['Age of Empires II', 'Age of Empires II'], ['Among Us', 'Among Us'], ['Apex Legends', 'Apex Legends'], ['Arena of Valor', 'Arena of Valor'], ['Artifact', 'Artifact'], ['Assetto Corsa', 'Assetto Corsa'], ['Assetto Corsa Competizione', 'Assetto Corsa Competizione'], ['Auto Chess', 'Auto Chess'], ['Battalion 1944', 'Battalion 1944'], ['Battalion 1944', 'Battalion 1944'], ['Battlefield 1', 'Battlefield 1'], ['Battlefield 4', 'Battlefield 4'], ['Battlefield Hardline', 'Battlefield Hardline'], ['Battlerite', 'Battlerite'], ['Black Squad', 'Black Squad'], ['Blade& Soul', 'Blade & Soul'], ['BlazBlue: Central Fiction', 'BlazBlue: Central Fiction'], ['BlazBlue: Cross Tag Battle', 'BlazBlue: Cross Tag Battle'], ['Borderlands 3', 'Borderlands 3'], ['Brawl Stars', 'Brawl Stars'], ['Brawlhalla', 'Brawlhalla'], ['Call of Duty: Modern Warfare', 'Call Of Duty: Modern Warfare'], ['Call of Duty 2', 'Call of Duty 2'], ['Call of Duty 4: Modern Warfare', 'Call of Duty 4: Modern Warfare'], ['Call of Duty: Black Ops', 'Call of Duty: Black Ops'], ['Call of Duty: Black Ops 4', 'Call of Duty: Black Ops 4'], ['Call of Duty: Black Ops III', 'Call of Duty: Black Ops III'], ['Call of Duty: Ghosts', 'Call of Duty: Ghosts'], ['Call of Duty: Infinite Warfare', 'Call of Duty: Infinite Warfare'], ['Call of Duty: Mobile', 'Call of Duty: Mobile'], ['Call of Duty: Modern Warfare 2', 'Call of Duty: Modern Warfare 2'], ['Call of Duty: Modern Warfare 3', 'Call of Duty: Modern Warfare 3'], ['Call of Duty: Warzone', 'Call of Duty: Warzone'], ['Catherine', 'Catherine'], ['Catherine: Full Body', 'Catherine: Full Body'], ['Clash Royale', 'Clash Royale'], ['Clash of Clans', 'Clash of Clans'], ['Company of Heroes 2', 'Company of Heroes 2'], ['Counter-Strike: Global Offensive', 'Counter-Strike: Global Offensive'], ['Creative Destruction', 'CreativeDestruction'], ['Doom 3', 'DOOM 3'], ['Dead By Daylight', 'Dead by Daylight'], ['Dead or Alive 6', 'Dead or Alive 6'], ['Diabotical', 'Diabotical'], ['Dofus', 'Dofus'], ['Dota 2', 'Dota 2'], ['Dota Underlords', 'Dota Underlords'], ['Dragon Ball FighterZ', 'Dragon Ball FighterZ'], ['Escape from Tarkov', 'Escape From Tarkov'], ['Escape from Tarkov', 'Escape from Tarkov'], ['Evolve', 'Evolve'], ['F1 2019', 'F1 2019'], ['FIFA 16', 'FIFA 16'], ['FIFA 17', 'FIFA 17'], ['FIFA 18', 'FIFA 18'], ['FIFA 19', 'FIFA 19'], ['FIFA 20', 'FIFA 20'], ['FIFA Online 4', 'FIFA Online 4'], ['Faeria', 'Faeria'], ['Farming Simulator 19', 'Farming Simulator 19'], ['Fortnite', 'Fortnite'], ['Forza Motorsport 6', 'Forza Motorsport 6'], ['Forza Motorsport 7', 'Forza Motorsport 7'], ['Gears 5', 'Gears 5'], ['Gears of War 4', 'Gears of War 4'], ['Gears of War: Ultimate Edition', 'Gears of War: Ultimate Edition'], ['Gran Turismo Sport', 'Gran Turismo Sport'], ['Guild Wars 2', 'Guild Wars 2'], ['Guilty Gear Xrd REV 2', 'Guilty Gear Xrd Rev 2'], ['Guitar Hero III: Legends of Rock', 'Guitar Hero III: Legends of Rock'], ['Halo 2', 'Halo 2'], ['Halo 4', 'Halo 4'], ['Halo 5: Guardians', 'Halo 5: Guardians'], ['Halo: Combat Evolved', 'Halo: Combat Evolved'], ['Halo: Reach', 'Halo: Reach'], ['Hearthstone', 'Hearthstone'], ['Heroes of Newerth', 'Heroes of Newerth'], ['Heroes of the Storm', 'Heroes of the Storm'], ['Hyper Scape', 'Hyper Scape'], ['Injustice 2', 'Injustice 2'], ['KartRider', 'Kartrider'], ['League of Legends', 'League of Legends'], ['Legends of Runeterra', 'Legends of Runeterra'], ['Mordhau', 'MORDHAU'], ['Madden NFL 19', 'Madden NFL 19'], ['Mario Kart 8 Deluxe', 'Mario Kart 8 Deluxe'], ['Mario Tennis Aces', 'Mario Tennis Aces'], ['Marvel vs. Capcom: Infinite', 'Marvel vs. Capcom: Infinite'], ['MechWarrior Online', 'MechWarrior Online'], ['Minecraft', 'Minecraft'], ['Mobile Legends: Bang Bang', 'Mobile Legends: Bang Bang'], ['Mortal Kombat 11', 'Mortal Kombat 11'], ['Mortal Kombat X', 'Mortal Kombat X'], ['NBA 2K18', 'NBA 2K18'], ['NBA 2K19', 'NBA 2K19'], ['NHL 17', 'NHL 17'], ['NHL 18', 'NHL 18'], ['NHL 19', 'NHL 19'], ['Naruto Shippuden: Ultimate Ninja Storm 4', 'Naruto Shippuden: Ultimate Ninja Storm 4'], ['Old School Runescape', 'Old School RuneScape'], ['Overwatch', 'Overwatch'], [\"PLAYERUNKNOWN'S BATTLEGROUNDS\", \"PLAYERUNKNOWN'S BATTLEGROUNDS\"], ['Paladins', 'Paladins'], ['Power Rangers: Battle for the Grid', 'Power Rangers: Battle for the Grid'], ['Pro Evolution Soccer 2016', 'Pro Evolution Soccer 2016'], ['Pro Evolution Soccer 2017', 'Pro Evolution Soccer 2017'], ['Pro Evolution Soccer 2018', 'Pro Evolution Soccer 2018'], ['Pro Evolution Soccer 2019', 'Pro Evolution Soccer 2019'], ['Project Cars 2', 'Project CARS 2'], ['Puyo Puyo Tetris', 'Puyo Puyo Tetris'], ['Quake Champions', 'Quake Champions'], ['Radical Heights', 'Radical Heights'], ['Realm Royale', 'Realm Royale'], ['Ring of Elysium', 'Ring Of Elysium'], ['Rocket Arena', 'Rocket Arena'], ['Rocket League', 'Rocket League'], ['Rules Of Survival', 'Rules of Survival'], ['SMITE', 'SMITE'], ['Sea of Thieves', 'Sea of Thieves'], ['Sekiro: Shadows Die Twice', 'Sekiro: Shadows Die Twice'], ['Shadowverse', 'Shadowverse'], ['ShootMania Storm', 'ShootMania Storm'], ['Soul Calibur VI', 'SoulCalibur VI'], ['Speedrunners', 'SpeedRunners'], ['Splatoon', 'Splatoon'], ['Splatoon 2', 'Splatoon 2'], ['Splitgate: Arena Warfare', 'Splitgate: Arena Warfare'], ['StarCraft II', 'StarCraft II'], ['StarCraft: Brood War', 'StarCraft: Brood War'], ['Stardew Valley', 'Stardew Valley'], ['Street Fighter III: 3rd Strike', 'Street Fighter III: 3rd Strike'], ['Street Fighter V', 'Street Fighter V'], ['Sudden Attack', 'Sudden Attack'], ['Super Mario Party', 'Super Mario Party'], ['Super Smash Bros. Melee', 'Super Smash Bros. Melee'], ['Super Smash Bros. Ultimate', 'Super Smash Bros. Ultimate'], ['Super Smash Bros. for Wii U', 'Super Smash Bros. for Wii U'], ['Team Fortress 2', 'Team Fortress 2'], ['Teamfight Tactics', 'Teamfight Tactics'], ['Tekken 7', 'Tekken 7'], ['Tetris', 'Tetris'], ['The Elder Scrolls: Legends', 'The Elder Scrolls: Legends'], ['TrackMania 2: Canyon', 'TrackMania 2: Canyon'], ['TrackMania 2: Stadium', 'TrackMania 2: Stadium'], ['Trackmania Turbo', 'TrackMania Turbo'], ['Trials Fusion', 'Trials Fusion'], ['UNO', 'UNO'], ['Ultimate Marvel vs. Capcom 3', 'Ultimate Marvel vs. Capcom 3'], ['Ultra Street Fighter IV', 'Ultra Street Fighter IV'], [\"Uncharted 4: A Thief's End\", \"Uncharted 4: A Thief's End\"], ['VALORANT', 'VALORANT'], ['Vainglory', 'Vainglory'], ['WWE 2K20', 'WWE 2K20'], ['WarCraft III', 'Warcraft III'], ['Warface', 'Warface'], ['World of Tanks', 'World of Tanks'], ['World of WarCraft', 'World of Warcraft'], ['Yu-Gi-Oh! Duel Links', 'Yu-Gi-Oh! Duel Links'], ['osu!', 'osu!'], ['rFactor 2', 'rFactor 2']]\n"
     ]
    }
   ],
   "source": [
    "print(countTwitch)\n",
    "print(countESport)\n",
    "print(len(countOk))\n",
    "print(countOk)"
   ]
  },
  {
   "cell_type": "code",
   "execution_count": 5,
   "metadata": {},
   "outputs": [],
   "source": [
    "# # comparison_column = np.where(dfTwitchPivoted[\"Year\"] == dfSales[\"GameName\"], True, False)\n",
    "\n",
    "# countTwitch = 0\n",
    "# countSales = 0\n",
    "# countOk = []\n",
    "\n",
    "# for gameTwitch in dfTwitchPivoted[\"Year\"]:\n",
    "#     countTwitch += 1\n",
    "#     for gameESport in dfSales[\"Name\"]:\n",
    "#         countSales += 1\n",
    "#         if gameESport.lower().replace(\" \",\"\").replace(\"-\",\"\") == gameTwitch.lower().replace(\" \",\"\").replace(\"-\",\"\"):\n",
    "#             countOk.append([gameESport, gameTwitch])\n",
    "        \n",
    "#         # if jellyfish.jaro_distance(gameESport.lower(), gameTwitch.lower()) < 1.0 and jellyfish.jaro_distance(gameESport.lower(), gameTwitch.lower()) > 0.99:\n",
    "#         #     countOk.append([gameESport, gameTwitch])\n",
    "\n",
    "# print(countTwitch)\n",
    "# print(countSales)\n",
    "# print(len(countOk))\n",
    "# print(countOk)"
   ]
  }
 ],
 "metadata": {
  "interpreter": {
   "hash": "b0fa6594d8f4cbf19f97940f81e996739fb7646882a419484c72d19e05852a7e"
  },
  "kernelspec": {
   "display_name": "Python 3.9.10 64-bit",
   "language": "python",
   "name": "python3"
  },
  "language_info": {
   "codemirror_mode": {
    "name": "ipython",
    "version": 3
   },
   "file_extension": ".py",
   "mimetype": "text/x-python",
   "name": "python",
   "nbconvert_exporter": "python",
   "pygments_lexer": "ipython3",
   "version": "3.9.10"
  },
  "orig_nbformat": 4
 },
 "nbformat": 4,
 "nbformat_minor": 2
}
